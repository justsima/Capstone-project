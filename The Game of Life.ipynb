{
 "cells": [
  {
   "cell_type": "markdown",
   "id": "2883608e",
   "metadata": {},
   "source": [
    "# Building Conway's Game of Life in Python\n",
    "\n",
    "## Project Description\n",
    "\n",
    "In this project, you will implement a simulation of Conway's Game of Life, invented by mathematician John Horton Conway. This is an excellent opportunity to apply your Python programming skills while exploring fascinating concepts in cellular automata, emergence, and complexity theory.\n",
    "\n",
    "### Overview\n",
    "\n",
    "Conway’s Game of Life is a zero-player game that requires only an initial state and no further input. The game takes place on a grid of square cells, each of which can be in one of two states: live or dead. Each cell interacts with its eight neighbors (horizontally, vertically, or diagonally adjacent cells). Starting from the initial state, the game evolves according to the following rules:\n",
    "\n",
    "1. **Survival**: Any live cell with two or three live neighbors survives. Otherwise, it dies due to loneliness (with no or only one neighbor) or overpopulation (with four or more neighbors).\n",
    "2. **Birth**: Any dead cell with exactly three live neighbors becomes a live cell. A dead cell with any other number of neighbors remains dead.\n",
    "\n",
    "In this project, the infinite grid is restricted to a finite grid with predefined dimensions.\n",
    "\n",
    "### Significance\n",
    "\n",
    "Despite its simplicity, the Game of Life can create complex behaviors, which have implications across various fields—from physics and mathematics to philosophy and art.\n",
    "\n",
    "### Project Requirements\n",
    "\n",
    "- **Programming Language**: Python 3 or newer\n",
    "- **IDE**: Any IDE of your choice (Jupyter Notebook, Spyder, PyCharm, Visual Studio, etc.)\n",
    "- **Note**: The file attached to this project is a Jupyter Notebook.\n",
    "\n",
    "Embark on this journey to simulate the Game of Life and witness the emergence of complexity from simple rules!"
   ]
  },
  {
   "cell_type": "code",
   "execution_count": null,
   "id": "6faece17",
   "metadata": {},
   "outputs": [],
   "source": [
    "class GameOfLife(object):  \n",
    "    \n",
    "    def __init__(self, x_dim, y_dim):\n",
    "        # Initialize a 2D list with dimensions x_dim by y_dim filled with zeros.\n",
    "        pass\n",
    "    \n",
    "    def get_grid(self):\n",
    "        # Implement a getter method for your grid.\n",
    "        pass\n",
    "\n",
    "    def print_grid(self):\n",
    "        # Implement a method to print out your grid in a human-readable format.\n",
    "        pass\n",
    "\n",
    "    def populate_grid(self, coord):\n",
    "        # Given a list of 2D coordinates (represented as tuples/lists with 2 elements each),\n",
    "        # set the corresponding elements in your grid to 1.\n",
    "        pass\n",
    "\n",
    "    def make_step(self):\n",
    "        # Implement the logic to update the game state according to the rules of Conway's Game of Life.\n",
    "        pass\n",
    "\n",
    "    def make_n_steps(self, n):\n",
    "        # Implement a method that applies the make_step method n times.\n",
    "        pass\n",
    "\n",
    "    def draw_grid(self):\n",
    "        # Draw the current state of the grid.\n",
    "        pass"
   ]
  }
 ],
 "metadata": {
  "kernelspec": {
   "display_name": "Python 3 (ipykernel)",
   "language": "python",
   "name": "python3"
  },
  "language_info": {
   "codemirror_mode": {
    "name": "ipython",
    "version": 3
   },
   "file_extension": ".py",
   "mimetype": "text/x-python",
   "name": "python",
   "nbconvert_exporter": "python",
   "pygments_lexer": "ipython3",
   "version": "3.8.8"
  }
 },
 "nbformat": 4,
 "nbformat_minor": 5
}
